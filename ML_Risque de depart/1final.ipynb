version https://git-lfs.github.com/spec/v1
oid sha256:942df3bc8d68acdaa8b89163a94820bafed3884a89e26b497ebd17f013d6b7e5
size 88752
