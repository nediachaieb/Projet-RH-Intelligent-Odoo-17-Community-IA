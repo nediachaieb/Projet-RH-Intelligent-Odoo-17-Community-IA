version https://git-lfs.github.com/spec/v1
oid sha256:b93baf60207c9b1160da1b48e224d2194736ffe45e2b4a10924ff691295633d8
size 35200
